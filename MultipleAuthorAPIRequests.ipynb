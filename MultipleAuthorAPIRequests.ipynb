{
 "cells": [
  {
   "cell_type": "code",
   "execution_count": null,
   "metadata": {},
   "outputs": [],
   "source": [
    "# Dependencies\n",
    "import requests\n",
    "import json\n",
    "import pandas as pd\n",
    "from config import api_key\n",
    "from pandas.io.json import json_normalize  "
   ]
  },
  {
   "cell_type": "markdown",
   "metadata": {},
   "source": [
    "## Get Scopus Author Information using Multiple Scopus Author IDs"
   ]
  },
  {
   "cell_type": "code",
   "execution_count": null,
   "metadata": {},
   "outputs": [],
   "source": [
    "# File to Load\n",
    "radiation_oncology = \"radiation_oncology.csv\"\n",
    "\n",
    "# Read the CSV file and store into Pandas DataFrame with the column Scopus Author ID as a string\n",
    "radiation_oncology_df = pd.read_csv(radiation_oncology, encoding=\"utf-8\",dtype={'Scopus Author ID': str})\n",
    "\n",
    "#Change the column names to lower case with underscore for spaces\n",
    "radiation_oncology_df.columns =  radiation_oncology_df.columns.str.strip().str.lower().str.replace(\" \", \"_\").str.replace(\"(\",\"\").str.replace(\")\",\"\")\n",
    "radiation_oncology_df.head()"
   ]
  },
  {
   "cell_type": "code",
   "execution_count": null,
   "metadata": {},
   "outputs": [],
   "source": [
    "#List the column names in the dataframe\n",
    "radiation_oncology_df.columns"
   ]
  },
  {
   "cell_type": "code",
   "execution_count": null,
   "metadata": {},
   "outputs": [],
   "source": [
    "#Check the data type in the dataframe columns called scopus_author_id and scopus_search\n",
    "radiation_oncology_df.scopus_author_id.dtype\n",
    "radiation_oncology_df.scopus_search.dtype"
   ]
  },
  {
   "cell_type": "code",
   "execution_count": null,
   "metadata": {},
   "outputs": [],
   "source": [
    "#Save the column called scopus_author_id to a list called Author_ID_List\n",
    "author_ID_List = radiation_oncology_df['scopus_author_id'].tolist()\n",
    "print(author_ID_List)"
   ]
  },
  {
   "cell_type": "code",
   "execution_count": null,
   "metadata": {},
   "outputs": [],
   "source": [
    "#Clean the Author_ID_List to remove nan\n",
    "cleaned_Author_ID_List = [x for x in author_ID_List if str(x) != 'nan']\n",
    "print(cleaned_Author_ID_List)"
   ]
  },
  {
   "cell_type": "code",
   "execution_count": null,
   "metadata": {},
   "outputs": [],
   "source": [
    "scopus_Search_List = radiation_oncology_df['scopus_search'].tolist()\n",
    "print(scopus_Search_List)"
   ]
  },
  {
   "cell_type": "code",
   "execution_count": null,
   "metadata": {},
   "outputs": [],
   "source": [
    "cleaned_Scopus_Search_List = [x for x in scopus_Search_List if str(x) != 'nan']\n",
    "print(cleaned_Scopus_Search_List)"
   ]
  },
  {
   "cell_type": "code",
   "execution_count": null,
   "metadata": {},
   "outputs": [],
   "source": [
    "def get_scopus_articles(cleaned_Scopus_Search_List):\n",
    "    for authid in cleaned_Scopus_Search_List:\n",
    "        url = \"http://api.elsevier.com/content/search/scopus?\"\n",
    "        headers = {\n",
    "             \"X-ELS-APIKey\": api_key,\n",
    "             'Accept':'application/json'\n",
    "        }\n",
    "        parameters = {\n",
    "            \"query\": authid,\n",
    "            \"field\": \"eid\"\n",
    "        }\n",
    "        try:\n",
    "            multiple_author_response = requests.get(url, headers=headers, params=parameters)\n",
    "            print(multiple_author_response.url)\n",
    "            print(multiple_author_response.status_code)\n",
    "            response_multiple_author_search = multiple_author_response.json()\n",
    "            response_multiple_author_search_cleaned = json.dumps( response_multiple_author_search, indent=4, sort_keys=True)\n",
    "            print(response_multiple_author_search_cleaned)\n",
    "        except:\n",
    "            print(\"Could not use\" + authid)\n",
    "    return(response_multiple_author_search_cleaned)\n",
    "get_scopus_articles(cleaned_Scopus_Search_List)"
   ]
  }
 ],
 "metadata": {
  "kernelspec": {
   "display_name": "Python 3",
   "language": "python",
   "name": "python3"
  },
  "language_info": {
   "codemirror_mode": {
    "name": "ipython",
    "version": 3
   },
   "file_extension": ".py",
   "mimetype": "text/x-python",
   "name": "python",
   "nbconvert_exporter": "python",
   "pygments_lexer": "ipython3",
   "version": "3.7.0"
  }
 },
 "nbformat": 4,
 "nbformat_minor": 2
}
